{
  "cells": [
    {
      "cell_type": "markdown",
      "metadata": {
        "id": "fqf-A9SJExyR"
      },
      "source": [
        "# Criptografia básica: Código de Cézar"
      ]
    },
    {
      "cell_type": "code",
      "execution_count": null,
      "metadata": {
        "colab": {
          "base_uri": "https://localhost:8080/"
        },
        "id": "Igs-r1vZEmji",
        "outputId": "f18c9a57-879a-46aa-906f-6c4e6f9ce9e9"
      },
      "outputs": [
        {
          "name": "stdout",
          "output_type": "stream",
          "text": [
            "Bem vindo(a) ao sistema de Criptografia básica usando o Código de Cézar \n",
            "________________________________________\n",
            "MENU \n",
            "1. Criptografar \n",
            "2. Decriptografar \n",
            "________________________________________\n",
            "Insira a opcao desejada(1 ou 2) \n",
            " >> 1\n",
            "Insira a mensagem que deseja criptografar \n",
            " >>SUBI NO ONIBUS EM MARROCOS\n",
            "________________________________________\n",
            "Mensagem criptografada: VXELQRRQLEXVHPPDUURFRV\n"
          ]
        }
      ],
      "source": [
        "alfabeto = [\"A\", \"B\", \"C\", \"D\", \"E\", \"F\", \"G\", \"H\", \"I\", \"J\", \"K\", \"L\", \"M\", \"N\", \"O\", \"P\", \"Q\", \"R\", \"S\", \"T\", \"U\", \"V\", \"W\", \"X\", \"Y\", \"Z\"]\n",
        "chave = 3  # chave pode ser alterada conforme o deslocamento desejado (com valores negativos o deslocamento se dá para a esquerda)\n",
        "n = len(alfabeto)\n",
        "\n",
        "def criptografar(mensagem):\n",
        "  resultado = \"\"\n",
        "  mensagem = mensagem.replace(\" \", \"\").upper()\n",
        "  for i in range(len(mensagem)):\n",
        "    letra = mensagem[i]\n",
        "    j = alfabeto.index(letra)\n",
        "    resultado += alfabeto[(j + chave) % n]\n",
        "  return resultado\n",
        "\n",
        "def decriptografar(mensagem):\n",
        "  resultado = \"\"\n",
        "  mensagem = mensagem.replace(\" \", \"\").upper()\n",
        "  for i in range(len(mensagem)):\n",
        "    letra = mensagem[i]\n",
        "    j = alfabeto.index(letra)\n",
        "    resultado += alfabeto[(j - chave) % n]\n",
        "  return resultado\n",
        "\n",
        "print(\"Bem vindo(a) ao sistema de Criptografia básica usando o Código de Cézar \\n\" + \"_\"*40)\n",
        "\n",
        "print(\"MENU \\n\" + \"1. Criptografar \\n\" + \"2. Decriptografar \\n\" + \"_\"*40)\n",
        "opcao_escolhida = int(input(\"Insira a opcao desejada(1 ou 2) \\n >> \"))\n",
        "\n",
        "if (opcao_escolhida == 1):\n",
        "  mensagem = input(\"Insira a mensagem que deseja criptografar \\n >> \")\n",
        "  print(\"_\"*40)\n",
        "  print(f\"Mensagem criptografada: {criptografar(mensagem)}\")\n",
        "elif (opcao_escolhida == 2):\n",
        "  mensagem = input(\"Insira a mensagem que deseja decriptografar \\n >> \")\n",
        "  print(\"_\"*40)\n",
        "  print(f\"Mensagem decriptografada: {decriptografar(mensagem)}\")\n",
        "else:\n",
        "  print(\"opcao invalida, reinicie o sistema e tente novamente.\")"
      ]
    }
  ],
  "metadata": {
    "colab": {
      "provenance": []
    },
    "kernelspec": {
      "display_name": "base",
      "language": "python",
      "name": "python3"
    },
    "language_info": {
      "name": "python",
      "version": "3.12.7"
    }
  },
  "nbformat": 4,
  "nbformat_minor": 0
}
